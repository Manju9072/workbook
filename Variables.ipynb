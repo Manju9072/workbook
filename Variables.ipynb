{
 "cells": [
  {
   "cell_type": "markdown",
   "metadata": {},
   "source": [
    "# Variables"
   ]
  },
  {
   "cell_type": "markdown",
   "metadata": {},
   "source": [
    "#### A Python variable is a reserved memory location to store values.\n",
    "\n",
    "1. Variables must always start with an alphabet or '_'(unserscore), Followed by any number or alphabet.\n",
    "2. Best practice is to use lowercase.\n",
    "3. Avoid using Keywords as variable name.\n",
    "4. Python uses dynamic typing.\n",
    "5. No special symbols other than '_' is used.\n",
    "6. Variable names are case sensitive."
   ]
  },
  {
   "cell_type": "code",
   "execution_count": 1,
   "metadata": {},
   "outputs": [],
   "source": [
    "#valid variable name\n",
    "\n",
    "variable0=0\n",
    "_variable0=0\n",
    "variable_0=0\n"
   ]
  },
  {
   "cell_type": "code",
   "execution_count": 3,
   "metadata": {},
   "outputs": [
    {
     "ename": "SyntaxError",
     "evalue": "invalid syntax (<ipython-input-3-3d79d01396ec>, line 2)",
     "output_type": "error",
     "traceback": [
      "\u001b[0;36m  File \u001b[0;32m\"<ipython-input-3-3d79d01396ec>\"\u001b[0;36m, line \u001b[0;32m2\u001b[0m\n\u001b[0;31m    1variable=\"kkas\"\u001b[0m\n\u001b[0m            ^\u001b[0m\n\u001b[0;31mSyntaxError\u001b[0m\u001b[0;31m:\u001b[0m invalid syntax\n"
     ]
    }
   ],
   "source": [
    "#invalid variable name\n",
    "\n",
    "1variable=\"kkas\"\n",
    "$variable=0\n",
    "Operand@=0\n",
    "list=[]\n",
    "int=87\n"
   ]
  },
  {
   "cell_type": "code",
   "execution_count": 10,
   "metadata": {},
   "outputs": [
    {
     "name": "stdout",
     "output_type": "stream",
     "text": [
      "Python is dynamically typed i.e it assigns data type on the go:\n",
      "Values of variable: 23\n",
      "type of variable: <class 'int'>\n",
      "Data type changes on the go:\n",
      "Values of variable: Oka\n",
      "type of variable: <class 'str'>\n"
     ]
    }
   ],
   "source": [
    "#Dynamic typing\n",
    "\n",
    "variable=23\n",
    "print(\"Python is dynamically typed i.e it assigns data type on the go:\")\n",
    "print(\"Values of variable:\", variable)\n",
    "print(\"type of variable:\", type(variable))\n",
    "\n",
    "\n",
    "variable=\"Oka\"\n",
    "print(\"Data type changes on the go:\")\n",
    "print(\"Values of variable:\", variable)\n",
    "print(\"type of variable:\", type(variable))\n"
   ]
  },
  {
   "cell_type": "code",
   "execution_count": 9,
   "metadata": {},
   "outputs": [
    {
     "name": "stdout",
     "output_type": "stream",
     "text": [
      "'This is capital' is capital but 'This is small' is not\n"
     ]
    }
   ],
   "source": [
    "#Variable is case sensitive\n",
    "\n",
    "Variable=\"'This is capital'\"\n",
    "variable=\"'This is small'\"\n",
    "\n",
    "\n",
    "print(\"{} is capital but {} is not\".format(Variable,variable))\n"
   ]
  },
  {
   "cell_type": "markdown",
   "metadata": {},
   "source": [
    "### Variables Assignment"
   ]
  },
  {
   "cell_type": "code",
   "execution_count": 11,
   "metadata": {},
   "outputs": [
    {
     "name": "stdout",
     "output_type": "stream",
     "text": [
      "100\n"
     ]
    }
   ],
   "source": [
    "variable0=100\n",
    "\n",
    "print(variable0)\n"
   ]
  },
  {
   "cell_type": "code",
   "execution_count": 12,
   "metadata": {},
   "outputs": [
    {
     "name": "stdout",
     "output_type": "stream",
     "text": [
      "variable0: 100\n",
      "variable1: 100\n",
      "variable3: 100\n"
     ]
    }
   ],
   "source": [
    "#Chained assignments\n",
    "\n",
    "variable0=variable1=variable3=100\n",
    "\n",
    "\n",
    "print(\"variable0:\", variable0)\n",
    "print(\"variable1:\", variable1)\n",
    "print(\"variable3:\", variable3)\n"
   ]
  },
  {
   "cell_type": "code",
   "execution_count": 1,
   "metadata": {},
   "outputs": [
    {
     "name": "stdout",
     "output_type": "stream",
     "text": [
      "Memory address Variable0: 0x55728d970300\n",
      "Memory address variable: 0x55728d970300\n",
      "Variable0 value: 200\n",
      "variable value: 400\n",
      "Memory address Variable0: 0x55728d970300\n",
      "Memory address variable: 0x7fd110bbb7b0\n"
     ]
    }
   ],
   "source": [
    "Variable0=200\n",
    "variable=Variable0\n",
    "print(\"Memory address Variable0:\",hex(id(Variable0)))\n",
    "print(\"Memory address variable:\",hex(id(variable)))\n",
    "variable=400\n",
    "print(\"Variable0 value:\",Variable0)\n",
    "print(\"variable value:\",variable)\n",
    "print(\"Memory address Variable0:\",hex(id(Variable0)))\n",
    "print(\"Memory address variable:\",hex(id(variable)))"
   ]
  }
 ],
 "metadata": {
  "kernelspec": {
   "display_name": "Python 3",
   "language": "python",
   "name": "python3"
  },
  "language_info": {
   "codemirror_mode": {
    "name": "ipython",
    "version": 3
   },
   "file_extension": ".py",
   "mimetype": "text/x-python",
   "name": "python",
   "nbconvert_exporter": "python",
   "pygments_lexer": "ipython3",
   "version": "3.6.6"
  }
 },
 "nbformat": 4,
 "nbformat_minor": 2
}
