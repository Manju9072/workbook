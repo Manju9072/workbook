{
 "cells": [
  {
   "cell_type": "markdown",
   "metadata": {},
   "source": [
    "# Arthematic Operations"
   ]
  },
  {
   "cell_type": "code",
   "execution_count": 1,
   "metadata": {},
   "outputs": [
    {
     "data": {
      "text/plain": [
       "5"
      ]
     },
     "execution_count": 1,
     "metadata": {},
     "output_type": "execute_result"
    }
   ],
   "source": [
    "#Addition\n",
    "3+2"
   ]
  },
  {
   "cell_type": "code",
   "execution_count": 2,
   "metadata": {},
   "outputs": [
    {
     "data": {
      "text/plain": [
       "1"
      ]
     },
     "execution_count": 2,
     "metadata": {},
     "output_type": "execute_result"
    }
   ],
   "source": [
    "#Subraction\n",
    "3-2"
   ]
  },
  {
   "cell_type": "code",
   "execution_count": 3,
   "metadata": {},
   "outputs": [
    {
     "data": {
      "text/plain": [
       "6"
      ]
     },
     "execution_count": 3,
     "metadata": {},
     "output_type": "execute_result"
    }
   ],
   "source": [
    "#Multiplication\n",
    "3*2"
   ]
  },
  {
   "cell_type": "code",
   "execution_count": 4,
   "metadata": {},
   "outputs": [
    {
     "data": {
      "text/plain": [
       "1.5"
      ]
     },
     "execution_count": 4,
     "metadata": {},
     "output_type": "execute_result"
    }
   ],
   "source": [
    "#Division\n",
    "3/2"
   ]
  },
  {
   "cell_type": "code",
   "execution_count": 5,
   "metadata": {},
   "outputs": [
    {
     "data": {
      "text/plain": [
       "1"
      ]
     },
     "execution_count": 5,
     "metadata": {},
     "output_type": "execute_result"
    }
   ],
   "source": [
    "#Floor division where floating point digits are ignored\n",
    "3//2"
   ]
  },
  {
   "cell_type": "code",
   "execution_count": 6,
   "metadata": {},
   "outputs": [
    {
     "data": {
      "text/plain": [
       "1"
      ]
     },
     "execution_count": 6,
     "metadata": {},
     "output_type": "execute_result"
    }
   ],
   "source": [
    "#Modulo gives reminder\n",
    "3%2"
   ]
  },
  {
   "cell_type": "code",
   "execution_count": 7,
   "metadata": {},
   "outputs": [
    {
     "data": {
      "text/plain": [
       "9"
      ]
     },
     "execution_count": 7,
     "metadata": {},
     "output_type": "execute_result"
    }
   ],
   "source": [
    "#Exponential \n",
    "3**2"
   ]
  },
  {
   "cell_type": "markdown",
   "metadata": {},
   "source": [
    "# Relational operators\n",
    "\n",
    "### (Comparison,Equality,Identity,Membership)"
   ]
  },
  {
   "cell_type": "code",
   "execution_count": 13,
   "metadata": {},
   "outputs": [
    {
     "name": "stdout",
     "output_type": "stream",
     "text": [
      "not equal\n"
     ]
    }
   ],
   "source": [
    "#Equality operator\n",
    "x,y=7,8\n",
    "\n",
    "#Starts here\n",
    "if(x==y):\n",
    "    print(\"equal\")\n",
    "elif(x!=y):\n",
    "    print(\"not equal\")"
   ]
  },
  {
   "cell_type": "code",
   "execution_count": 17,
   "metadata": {},
   "outputs": [
    {
     "ename": "SyntaxError",
     "evalue": "invalid syntax (<ipython-input-17-54c1ac273045>, line 2)",
     "output_type": "error",
     "traceback": [
      "\u001b[0;36m  File \u001b[0;32m\"<ipython-input-17-54c1ac273045>\"\u001b[0;36m, line \u001b[0;32m2\u001b[0m\n\u001b[0;31m    if(10<>2):\u001b[0m\n\u001b[0m          ^\u001b[0m\n\u001b[0;31mSyntaxError\u001b[0m\u001b[0;31m:\u001b[0m invalid syntax\n"
     ]
    }
   ],
   "source": [
    "#Not equal to in python 2 which is scrapped in python 3 \n",
    "if(10<>2):\n",
    "    print(\"ok\")\n",
    "    "
   ]
  },
  {
   "cell_type": "code",
   "execution_count": 35,
   "metadata": {},
   "outputs": [
    {
     "name": "stdout",
     "output_type": "stream",
     "text": [
      "x:2, y:8\n",
      "L\n"
     ]
    }
   ],
   "source": [
    "#Comparision operator (Concentrate from if statement) \n",
    "from random import randint\n",
    "x=randint(0,9)\n",
    "y=randint(0,9)\n",
    "print(\"x:{0}, y:{1}\".format(x,y))\n",
    "\n",
    "\n",
    "#Comparision starts here\n",
    "if(x>y):  \n",
    "    print(\"G\")\n",
    "elif(x<y):\n",
    "    print(\"L\")\n",
    "elif(x<=y):\n",
    "    print(\"LE\")\n",
    "elif(x>=y):\n",
    "    print(\"GE\")"
   ]
  },
  {
   "cell_type": "code",
   "execution_count": 39,
   "metadata": {},
   "outputs": [
    {
     "name": "stdout",
     "output_type": "stream",
     "text": [
      "<class 'int'>\n",
      "<class 'float'>\n"
     ]
    }
   ],
   "source": [
    "#Identity Operators(is)\n",
    "x=22\n",
    "y=22.90\n",
    "if (type(x) is int):\n",
    "    print(type(x))\n",
    "if(type(y) is not int):\n",
    "    print(type(y))"
   ]
  },
  {
   "cell_type": "code",
   "execution_count": 42,
   "metadata": {},
   "outputs": [
    {
     "name": "stdout",
     "output_type": "stream",
     "text": [
      "present\n",
      "Not present\n"
     ]
    }
   ],
   "source": [
    "#Membership Operator(in)\n",
    "x=[12,54,33,12,10]\n",
    "\n",
    "if (10 in x):\n",
    "    print(\"present\")\n",
    "if (111 not in x):\n",
    "    print(\"Not present\")\n"
   ]
  },
  {
   "cell_type": "markdown",
   "metadata": {},
   "source": [
    "# Logical Operators"
   ]
  },
  {
   "cell_type": "code",
   "execution_count": 53,
   "metadata": {},
   "outputs": [
    {
     "name": "stdout",
     "output_type": "stream",
     "text": [
      "Both condition are true positive case\n",
      "Either one is true\n",
      "XOR\n",
      "Both condition are true\n"
     ]
    }
   ],
   "source": [
    "#AND \n",
    "x=21\n",
    "y=31\n",
    "if(x%7==0) and (x<31):\n",
    "    print(\"Both condition are true positive case\")\n",
    "#Not displayed\n",
    "if(x%7==0) and (x>31):\n",
    "    print(\"Not displayed\")\n",
    "\n",
    "#OR\n",
    "if(x%7==0) or (x>31):\n",
    "    print(\"Either one is true\")\n",
    "#Not displayed\n",
    "if(x%7!=0) or (x>31):\n",
    "    print(\"Not Displayed\")\n",
    "\n",
    "#Not\n",
    "if(x%7!=0) != (x<31):\n",
    "    print(\"XOR\")\n",
    "\n",
    "\n",
    "\n",
    "#Complex\n",
    "if(x%7==0) and (x<31) or (x>31):\n",
    "    print(\"Both condition are true\")\n",
    "\n",
    "\n",
    "\n",
    "    "
   ]
  },
  {
   "cell_type": "markdown",
   "metadata": {},
   "source": [
    "# Bitwise Operators"
   ]
  },
  {
   "cell_type": "code",
   "execution_count": 101,
   "metadata": {},
   "outputs": [
    {
     "name": "stdout",
     "output_type": "stream",
     "text": [
      "Bitwise and: 5\n",
      "Bitwise or: 15\n",
      "Bitwise Not -8\n",
      "Bitwise XOR 10\n",
      "Bitwise Leftshift 28\n",
      "Bitwise Rightshift 0\n"
     ]
    }
   ],
   "source": [
    "x=bin(7)\n",
    "y=bin(13)\n",
    "print(\"Bitwise and:\",int(x,2)&int(y,2))\n",
    "print(\"Bitwise or:\",int(x,2)|int(y,2))\n",
    "print(\"Bitwise Not\", ~int(x,2))\n",
    "print(\"Bitwise XOR\", int(y,2)^int(x,2))\n",
    "#shift operator\n",
    "print(\"Bitwise Leftshift\", int(x,2)<<2) # 7*2**2\n",
    "print(\"Bitwise Rightshift\", int(x,2)>>2) #7/2*2\n"
   ]
  },
  {
   "cell_type": "markdown",
   "metadata": {},
   "source": [
    "### Operator precedence\n",
    "##### Precedence is always from left to right\n",
    "##### 1. **\n",
    "##### 2. '+','-','~'\n",
    "##### 3. *,%,/,//\n",
    "##### 4. +,-\n",
    "##### 5. Bitwise\n",
    "##### 6. Relational\n",
    "##### 7. Logical"
   ]
  },
  {
   "cell_type": "code",
   "execution_count": 14,
   "metadata": {},
   "outputs": [
    {
     "data": {
      "text/plain": [
       "8"
      ]
     },
     "execution_count": 14,
     "metadata": {},
     "output_type": "execute_result"
    }
   ],
   "source": [
    "3+2+5-2"
   ]
  },
  {
   "cell_type": "code",
   "execution_count": 1,
   "metadata": {},
   "outputs": [
    {
     "data": {
      "text/plain": [
       "11"
      ]
     },
     "execution_count": 1,
     "metadata": {},
     "output_type": "execute_result"
    }
   ],
   "source": [
    "3+2*5-2"
   ]
  },
  {
   "cell_type": "code",
   "execution_count": 2,
   "metadata": {},
   "outputs": [
    {
     "data": {
      "text/plain": [
       "23"
      ]
     },
     "execution_count": 2,
     "metadata": {},
     "output_type": "execute_result"
    }
   ],
   "source": [
    "(3+2)*5-2"
   ]
  },
  {
   "cell_type": "code",
   "execution_count": 4,
   "metadata": {},
   "outputs": [
    {
     "data": {
      "text/plain": [
       "19"
      ]
     },
     "execution_count": 4,
     "metadata": {},
     "output_type": "execute_result"
    }
   ],
   "source": [
    "3**2+5*2"
   ]
  },
  {
   "cell_type": "code",
   "execution_count": 5,
   "metadata": {},
   "outputs": [
    {
     "data": {
      "text/plain": [
       "13.0"
      ]
     },
     "execution_count": 5,
     "metadata": {},
     "output_type": "execute_result"
    }
   ],
   "source": [
    "9**0.5+5*2"
   ]
  },
  {
   "cell_type": "code",
   "execution_count": 6,
   "metadata": {},
   "outputs": [
    {
     "data": {
      "text/plain": [
       "227"
      ]
     },
     "execution_count": 6,
     "metadata": {},
     "output_type": "execute_result"
    }
   ],
   "source": [
    "3**2+(3**5)+8*7-(9**2)"
   ]
  },
  {
   "cell_type": "code",
   "execution_count": 7,
   "metadata": {},
   "outputs": [
    {
     "data": {
      "text/plain": [
       "1"
      ]
     },
     "execution_count": 7,
     "metadata": {},
     "output_type": "execute_result"
    }
   ],
   "source": [
    "3-2"
   ]
  },
  {
   "cell_type": "markdown",
   "metadata": {},
   "source": [
    "## Simple tricks"
   ]
  },
  {
   "cell_type": "code",
   "execution_count": 54,
   "metadata": {},
   "outputs": [
    {
     "data": {
      "text/plain": [
       "3.0"
      ]
     },
     "execution_count": 54,
     "metadata": {},
     "output_type": "execute_result"
    }
   ],
   "source": [
    "#Simple trick to find out square root\n",
    "9**.5"
   ]
  },
  {
   "cell_type": "code",
   "execution_count": 102,
   "metadata": {},
   "outputs": [
    {
     "name": "stdout",
     "output_type": "stream",
     "text": [
      "XOR operation\n"
     ]
    }
   ],
   "source": [
    "#XOR\n",
    "if(True != False):\n",
    "    print(\"XOR operation\")\n"
   ]
  },
  {
   "cell_type": "code",
   "execution_count": 134,
   "metadata": {},
   "outputs": [
    {
     "name": "stdout",
     "output_type": "stream",
     "text": [
      "0b111\n",
      "Which is equal to 7*4(2**2): 28\n",
      "Which is equal to 7/4(2**2) gives integer value: 1\n"
     ]
    }
   ],
   "source": [
    "#left shift and right shift\n",
    "x=bin(7)\n",
    "print(x)\n",
    "print(\"Which is equal to 7*4(2**2):\", int(x,2)<<2)\n",
    "print(\"Which is equal to 7/4(2**2) gives integer value:\", int(x,2)>>2)\n"
   ]
  },
  {
   "cell_type": "code",
   "execution_count": 11,
   "metadata": {},
   "outputs": [
    {
     "name": "stdout",
     "output_type": "stream",
     "text": [
      "odd\n"
     ]
    }
   ],
   "source": [
    "#To check if number is even or odd using bitwise and\n",
    "n=17\n",
    "if(n&1):\n",
    "    print(\"odd\")\n",
    "else:\n",
    "    print(\"even\")"
   ]
  }
 ],
 "metadata": {
  "kernelspec": {
   "display_name": "Python 3",
   "language": "python",
   "name": "python3"
  },
  "language_info": {
   "codemirror_mode": {
    "name": "ipython",
    "version": 3
   },
   "file_extension": ".py",
   "mimetype": "text/x-python",
   "name": "python",
   "nbconvert_exporter": "python",
   "pygments_lexer": "ipython3",
   "version": "3.6.6"
  }
 },
 "nbformat": 4,
 "nbformat_minor": 2
}
